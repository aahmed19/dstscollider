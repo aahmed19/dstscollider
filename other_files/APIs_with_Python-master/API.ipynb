{
 "cells": [
  {
   "cell_type": "markdown",
   "metadata": {},
   "source": [
    "## Open Notify\n",
    "\n",
    "An API is a set of methods and tools that allows different applications to interact with each other. Programmers use APIs to query and retrieve data dynamically (which they can then integrate with their own apps). A client can retrieve information quickly and effectively through an API.\n",
    "\n",
    "An API will normally have several endpoints. An endpoint is a server route for retrieving specific data from an API.\n",
    "\n",
    "There are many different types of requests. The most common is a GET request, which we use to retrieve data"
   ]
  },
  {
   "cell_type": "code",
   "execution_count": 47,
   "metadata": {
    "collapsed": true
   },
   "outputs": [],
   "source": [
    "import requests\n",
    "response = requests.get(\"http://api.open-notify.org/iss-now.json\")"
   ]
  },
  {
   "cell_type": "code",
   "execution_count": 48,
   "metadata": {
    "collapsed": false
   },
   "outputs": [
    {
     "name": "stdout",
     "output_type": "stream",
     "text": [
      "200\n"
     ]
    }
   ],
   "source": [
    "print response.status_code"
   ]
  },
  {
   "cell_type": "markdown",
   "metadata": {},
   "source": [
    "### Status Codes\n",
    "\n",
    "- **200** - Everything worked\n",
    "- **300** - You're being redirected to a different endpoint\n",
    "- **401** - The server thinks you're not authenticated. This happens when you don't send the right credentials to access an API \n",
    "- **400** - The server thinks you made a bad request. This can happen when you don't send the information the API requires to process your request, among other things.\n",
    "- **403** - The resource you're trying to access is forbidden; you don't have the right permissions to see it.\n",
    "- **404** - Server didn't find the resource you requested."
   ]
  },
  {
   "cell_type": "code",
   "execution_count": 49,
   "metadata": {
    "collapsed": false
   },
   "outputs": [
    {
     "name": "stdout",
     "output_type": "stream",
     "text": [
      "400\n"
     ]
    }
   ],
   "source": [
    "req = requests.get(\"http://api.open-notify.org/iss-pass.json\")\n",
    "status_code = req.status_code\n",
    "print status_code\n",
    "# 400 because didn't include parameters for query"
   ]
  },
  {
   "cell_type": "markdown",
   "metadata": {},
   "source": [
    "## Often you may need to send query parameters to pass to the api inside the url\n",
    "\n",
    "### You can do this with a params dict or hardcoding them into the url"
   ]
  },
  {
   "cell_type": "code",
   "execution_count": 50,
   "metadata": {
    "collapsed": false
   },
   "outputs": [
    {
     "name": "stdout",
     "output_type": "stream",
     "text": [
      "{\n",
      "  \"message\": \"success\", \n",
      "  \"request\": {\n",
      "    \"altitude\": 100, \n",
      "    \"datetime\": 1487191894, \n",
      "    \"latitude\": 40.71, \n",
      "    \"longitude\": -74.0, \n",
      "    \"passes\": 5\n",
      "  }, \n",
      "  \"response\": [\n",
      "    {\n",
      "      \"duration\": 599, \n",
      "      \"risetime\": 1487194858\n",
      "    }, \n",
      "    {\n",
      "      \"duration\": 637, \n",
      "      \"risetime\": 1487200642\n",
      "    }, \n",
      "    {\n",
      "      \"duration\": 444, \n",
      "      \"risetime\": 1487206490\n",
      "    }, \n",
      "    {\n",
      "      \"duration\": 314, \n",
      "      \"risetime\": 1487255011\n",
      "    }, \n",
      "    {\n",
      "      \"duration\": 630, \n",
      "      \"risetime\": 1487260593\n",
      "    }\n",
      "  ]\n",
      "}\n",
      "\n"
     ]
    }
   ],
   "source": [
    "# Dictionary params way\n",
    "parameters = {\"lat\": 40.71, \"lon\": -74}\n",
    "response = requests.get(\"http://api.open-notify.org/iss-pass.json\", params=parameters)\n",
    "\n",
    "# Print the content of the response (the data the server returned)\n",
    "print response.content"
   ]
  },
  {
   "cell_type": "code",
   "execution_count": 51,
   "metadata": {
    "collapsed": true
   },
   "outputs": [],
   "source": [
    "# Write into url\n",
    "response = requests.get(\"http://api.open-notify.org/iss-pass.json?lat=40.71&lon=-74\", params=parameters)"
   ]
  },
  {
   "cell_type": "code",
   "execution_count": 52,
   "metadata": {
    "collapsed": false
   },
   "outputs": [
    {
     "name": "stdout",
     "output_type": "stream",
     "text": [
      "{\n",
      "  \"message\": \"success\", \n",
      "  \"request\": {\n",
      "    \"altitude\": 100, \n",
      "    \"datetime\": 1487193447, \n",
      "    \"latitude\": 40.71, \n",
      "    \"longitude\": -74.0, \n",
      "    \"passes\": 5\n",
      "  }, \n",
      "  \"response\": [\n",
      "    {\n",
      "      \"duration\": 599, \n",
      "      \"risetime\": 1487194858\n",
      "    }, \n",
      "    {\n",
      "      \"duration\": 637, \n",
      "      \"risetime\": 1487200642\n",
      "    }, \n",
      "    {\n",
      "      \"duration\": 444, \n",
      "      \"risetime\": 1487206490\n",
      "    }, \n",
      "    {\n",
      "      \"duration\": 314, \n",
      "      \"risetime\": 1487255011\n",
      "    }, \n",
      "    {\n",
      "      \"duration\": 630, \n",
      "      \"risetime\": 1487260593\n",
      "    }\n",
      "  ]\n",
      "}\n",
      "\n"
     ]
    }
   ],
   "source": [
    "print response.content"
   ]
  },
  {
   "cell_type": "markdown",
   "metadata": {},
   "source": [
    "The above format is JSON. \n",
    "\n",
    "This format encodes data structures like lists and dictionaries as strings to ensure that machines can read them easily. \n",
    "\n",
    "JSON is the primary format for sending and receiving data through APIs."
   ]
  },
  {
   "cell_type": "markdown",
   "metadata": {},
   "source": [
    "### json in Python\n",
    "\n",
    "Use the `json` library:\n",
    "\n",
    "- **dumps** -- Takes in a Python object, and converts it to a string\n",
    "- **loads** -- Takes a JSON string, and converts it to a Python object"
   ]
  },
  {
   "cell_type": "markdown",
   "metadata": {},
   "source": [
    "### To get the content of a request in python, just append  `.json()` to it"
   ]
  },
  {
   "cell_type": "code",
   "execution_count": 53,
   "metadata": {
    "collapsed": false
   },
   "outputs": [
    {
     "name": "stdout",
     "output_type": "stream",
     "text": [
      "{\n",
      "  \"message\": \"success\", \n",
      "  \"request\": {\n",
      "    \"altitude\": 100, \n",
      "    \"datetime\": 1487193455, \n",
      "    \"latitude\": 37.78, \n",
      "    \"longitude\": -122.41, \n",
      "    \"passes\": 5\n",
      "  }, \n",
      "  \"response\": [\n",
      "    {\n",
      "      \"duration\": 557, \n",
      "      \"risetime\": 1487194266\n",
      "    }, \n",
      "    {\n",
      "      \"duration\": 472, \n",
      "      \"risetime\": 1487200169\n",
      "    }, \n",
      "    {\n",
      "      \"duration\": 550, \n",
      "      \"risetime\": 1487205992\n",
      "    }, \n",
      "    {\n",
      "      \"duration\": 638, \n",
      "      \"risetime\": 1487211766\n",
      "    }, \n",
      "    {\n",
      "      \"duration\": 515, \n",
      "      \"risetime\": 1487217590\n",
      "    }\n",
      "  ]\n",
      "}\n",
      "\n"
     ]
    }
   ],
   "source": [
    "# Make the same request we did two screens ago.\n",
    "parameters = {\"lat\": 37.78, \"lon\": -122.41}\n",
    "response = requests.get(\"http://api.open-notify.org/iss-pass.json\", params=parameters)\n",
    "print response.content"
   ]
  },
  {
   "cell_type": "code",
   "execution_count": 54,
   "metadata": {
    "collapsed": false
   },
   "outputs": [
    {
     "name": "stdout",
     "output_type": "stream",
     "text": [
      "<type 'dict'>\n",
      "{u'message': u'success', u'request': {u'latitude': 37.78, u'passes': 5, u'altitude': 100, u'longitude': -122.41, u'datetime': 1487193455}, u'response': [{u'duration': 557, u'risetime': 1487194266}, {u'duration': 472, u'risetime': 1487200169}, {u'duration': 550, u'risetime': 1487205992}, {u'duration': 638, u'risetime': 1487211766}, {u'duration': 515, u'risetime': 1487217590}]}\n"
     ]
    }
   ],
   "source": [
    "# Get the response data as a Python object.  Verify that it's a dictionary.\n",
    "json_data = response.json()\n",
    "print type(json_data) \n",
    "print json_data"
   ]
  },
  {
   "cell_type": "code",
   "execution_count": 31,
   "metadata": {
    "collapsed": false
   },
   "outputs": [
    {
     "data": {
      "text/plain": [
       "366"
      ]
     },
     "execution_count": 31,
     "metadata": {},
     "output_type": "execute_result"
    }
   ],
   "source": [
    "json_data['response'][0]['duration']"
   ]
  },
  {
   "cell_type": "markdown",
   "metadata": {},
   "source": [
    "## Content Type\n",
    "The server sends more than a status code and the data when it generates a response. It also sends metadata containing information on how it generated the data and how to decode it. This information appears in the response headers. We can access it using the **`.headers`** property that responses have.\n",
    "\n",
    "The headers will appear as a dictionary. For now, the content-type within the headers is the most important key. It tells us the format of the response, and how to decode it. For the OpenNotify API, the format is JSON, which is why we could decode it with JSON earlier."
   ]
  },
  {
   "cell_type": "code",
   "execution_count": 32,
   "metadata": {
    "collapsed": false
   },
   "outputs": [
    {
     "name": "stdout",
     "output_type": "stream",
     "text": [
      "{'Content-Length': '521', 'Via': '1.1 vegur', 'Server': 'nginx/1.6.2', 'Connection': 'keep-alive', 'Date': 'Wed, 15 Feb 2017 04:21:29 GMT', 'Content-Type': 'application/json'}\n"
     ]
    }
   ],
   "source": [
    "print response.headers"
   ]
  },
  {
   "cell_type": "code",
   "execution_count": 46,
   "metadata": {
    "collapsed": false
   },
   "outputs": [
    {
     "name": "stdout",
     "output_type": "stream",
     "text": [
      "200\n",
      "{'Content-Length': '314', 'Server': 'nginx/1.6.2', 'Connection': 'keep-alive', 'Date': 'Wed, 15 Feb 2017 04:32:02 GMT', 'access-control-allow-origin': '*', 'Content-Type': 'application/json'}\n",
      "\n",
      "\n",
      "{\"people\": [{\"craft\": \"ISS\", \"name\": \"Sergey Rizhikov\"}, {\"craft\": \"ISS\", \"name\": \"Andrey Borisenko\"}, {\"craft\": \"ISS\", \"name\": \"Shane Kimbrough\"}, {\"craft\": \"ISS\", \"name\": \"Oleg Novitskiy\"}, {\"craft\": \"ISS\", \"name\": \"Thomas Pesquet\"}, {\"craft\": \"ISS\", \"name\": \"Peggy Whitson\"}], \"message\": \"success\", \"number\": 6}\n",
      "\n",
      "\n",
      "# people in space: 6\n"
     ]
    }
   ],
   "source": [
    "peep_in_space = requests.get(\"http://api.open-notify.org/astros.json\")\n",
    "print peep_in_space.status_code\n",
    "print peep_in_space.headers\n",
    "print \"\\n\"\n",
    "print peep_in_space.content\n",
    "print \"\\n\"\n",
    "print \"# people in space: %i\" % peep_in_space.json()[\"number\"]"
   ]
  }
 ],
 "metadata": {
  "kernelspec": {
   "display_name": "Python 2",
   "language": "python",
   "name": "python2"
  },
  "language_info": {
   "codemirror_mode": {
    "name": "ipython",
    "version": 2
   },
   "file_extension": ".py",
   "mimetype": "text/x-python",
   "name": "python",
   "nbconvert_exporter": "python",
   "pygments_lexer": "ipython2",
   "version": "2.7.12"
  }
 },
 "nbformat": 4,
 "nbformat_minor": 0
}
