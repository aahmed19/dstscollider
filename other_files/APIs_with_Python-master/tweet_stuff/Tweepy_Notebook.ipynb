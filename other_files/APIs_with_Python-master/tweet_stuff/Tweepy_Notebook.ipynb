{
 "cells": [
  {
   "cell_type": "markdown",
   "metadata": {},
   "source": [
    "# Twitter API with Python Example\n",
    "##### Author: Jared Wilber\n",
    "\n",
    "\n",
    "Use Python for:\n",
    "\n",
    "- working with an API\n",
    "- working with a database\n"
   ]
  },
  {
   "cell_type": "code",
   "execution_count": 4,
   "metadata": {
    "collapsed": false
   },
   "outputs": [],
   "source": [
    "# import what we need\n",
    "from textblob import TextBlob\n",
    "import tweepy\n",
    "import dataset\n",
    "from sqlalchemy.exc import ProgrammingError\n",
    "import json"
   ]
  },
  {
   "cell_type": "markdown",
   "metadata": {},
   "source": [
    "## API Authentication\n",
    "\n",
    "Sign up here to get credentials:\n",
    "https://apps.twitter.com/"
   ]
  },
  {
   "cell_type": "code",
   "execution_count": 2,
   "metadata": {
    "collapsed": true
   },
   "outputs": [],
   "source": [
    "# Define constants\n",
    "TWITTER_APP_KEY = \"zS2Ex9moP635A6Nu5G6uJfaPu\"\n",
    "TWITTER_APP_SECRET = \"towF0X2m59jtFRwudf2X1edKbpTEXXneZD6tDLo0FDiGJCxXFH\"\n",
    "TWITTER_KEY = \"796875093456494592-XTA7Khp5LZVErrvUE30fkhnGAPhuQk3\"\n",
    "TWITTER_SECRET = \"kArRkH2zld4b68qtMyr9KzRb5alyRCyLPsUpAGwYDZX4w\"\n",
    "\n",
    "TRACK_TERMS = ['Kuffar', 'beheading', 'kufr', 'isis', 'daesh', 'deathtoamerica', 'ihateamerica']\n"
   ]
  },
  {
   "cell_type": "markdown",
   "metadata": {},
   "source": [
    "## Stream Tweets into db\n",
    "\n",
    "We'll use sqlite. It can hold 140 terrabytes == solid for any proof of concept"
   ]
  },
  {
   "cell_type": "code",
   "execution_count": 3,
   "metadata": {
    "collapsed": false
   },
   "outputs": [],
   "source": [
    "# Set up data base stuff\n",
    "DB_STRING = \"sqlite:///tweets.db\"\n",
    "TABLE_NAME = \"tweets\"\n",
    "# Set up data base\n",
    "db = dataset.connect(DB_STRING)\n",
    "\n",
    "# csv name for later\n",
    "CSV_NAME = \"tweets.csv\""
   ]
  },
  {
   "cell_type": "code",
   "execution_count": 4,
   "metadata": {
    "collapsed": true
   },
   "outputs": [],
   "source": [
    "# Define StreamListener Class\n",
    "class StreamListener(tweepy.StreamListener):\n",
    "\n",
    "    def on_status(self, status):\n",
    "        \n",
    "        # drop tweets tha are rts\n",
    "        if hasattr (status, 'retweeted_status'):              \n",
    "            return\n",
    "        \n",
    "        \n",
    "        # Tweet details we want to keep\n",
    "        description = status.user.description\n",
    "        loc = status.user.location\n",
    "        text = status.text\n",
    "        print status.text, \"\\n\"\n",
    "        coords = status.coordinates\n",
    "        name = status.user.screen_name\n",
    "        user_created = status.user.created_at\n",
    "        followers = status.user.followers_count\n",
    "        id_str = status.id_str\n",
    "        created = status.created_at\n",
    "        retweets = status.retweet_count\n",
    "        blob = TextBlob(text)\n",
    "        sent = blob.sentiment\n",
    "\n",
    "        if coords is not None:\n",
    "            coords = json.dumps(coords)\n",
    "        \n",
    "        # Stream insto database\n",
    "        table = db[TABLE_NAME]\n",
    "        try:\n",
    "            table.insert(dict(\n",
    "                user_description=description,\n",
    "                user_location=loc,\n",
    "                coordinates=coords,\n",
    "                text=text,\n",
    "                user_name=name,\n",
    "                user_created=user_created,\n",
    "                user_followers=followers,\n",
    "                id_str=id_str,\n",
    "                created=created,\n",
    "                retweet_count=retweets,\n",
    "                polarity=sent.polarity,\n",
    "                subjectivity=sent.subjectivity,\n",
    "            ))\n",
    "            \n",
    "        except ProgrammingError as err:\n",
    "            print(err)\n",
    "\n",
    "    def on_error(self, status_code):\n",
    "        if status_code == 420:\n",
    "            #returning False if on_data disconnects the stream\n",
    "            return False"
   ]
  },
  {
   "cell_type": "code",
   "execution_count": 5,
   "metadata": {
    "collapsed": true
   },
   "outputs": [],
   "source": [
    "# Set up Streamer\n",
    "auth = tweepy.OAuthHandler(TWITTER_APP_KEY, TWITTER_APP_SECRET)\n",
    "auth.set_access_token(TWITTER_KEY,TWITTER_SECRET)\n",
    "api = tweepy.API(auth)"
   ]
  },
  {
   "cell_type": "code",
   "execution_count": 6,
   "metadata": {
    "collapsed": false
   },
   "outputs": [
    {
     "name": "stdout",
     "output_type": "stream",
     "text": [
      "Links verliest de pedalen, aflevering 24.985.356\n",
      "\n",
      " https://t.co/OvUxMYvstx \n",
      "\n",
      "It's thoughtless delusional fear-mongering acts as yours Bibi .@Netanya &amp;Nazis as #Sessions Trump&amp;Saudi'+Irans's ISIS setting #Earth ablaze \n",
      "\n",
      "Not letting Muslims run your cultural institutions will make those fine people transform into terrorists. Got it. https://t.co/eaBsGt58WH \n",
      "\n",
      "ISIS fighters try hiding among Mosul families as refugee rates surge - Fox News https://t.co/PkHEYiGeJ2 \n",
      "\n",
      "Findings by ICCT of #Daesh suicide attacks- 83% against military targets; 80% by local recruits : https://t.co/wGHc6cK6e4 via @ICCT_TheHague \n",
      "\n",
      "Riz Ahmed warns lack of diversity on TV will drive young to Isis https://t.co/zbmzwDE00e \n",
      "\n",
      "@lisa_w227  Bill won and we still had deregulation, welfare reform to states, tech crash, war in iraq, housing crash and then ISIS. \n",
      "\n",
      "#Raqqa photos for the ruins Due Airstrikes on #Taqbah city #Syria #ISIS https://t.co/SDwnKtSWDm \n",
      "\n",
      "@TheRealDevonA @SenWarren Obama/Hillary armed ISIS. Putin stated this publicly. The idea is to say Trump is Putin's… https://t.co/vDHGRuwPTy \n",
      "\n",
      "Bye Bye @TheDemocrats @SenateDems @CA_Dem . We Love @realDonaldTrump 's vision for America!!! https://t.co/yllNY3Abww \n",
      "\n",
      "Ejército sirio, dispuesto a aumentar las operaciones contra Daesh tras liberación de Palmira https://t.co/wKs6mMIO5q \n",
      "\n",
      "😂😂😂👏 https://t.co/YSefXATerY \n",
      "\n",
      "Riz Ahmed warns lack of diversity on TV will drive young to Isis https://t.co/ZYCLSlE5Gy https://t.co/NkxvWS72Ce \n",
      "\n",
      "Sem ter que se preocupar com outros conflitos YPG e YPJ viraram as forças no chão mais efetivas contra o Daesh. \n",
      "\n",
      "Swiss cement firm may have financed Daesh in Syria https://t.co/NxsuyeBOpo via @MiddleEastMnt \n",
      "\n",
      "@NancyPelosi @HouseGOP Democrats approves misuse of taxpayers money billions for 44 Isis supporters.No evidence of any Russia ties. \n",
      "\n",
      "Marine Le Pen loses immunity over violent ISIS images 》 》 https://t.co/TO2MWYcbIZ https://t.co/goKYwDGSDX \n",
      "\n",
      "Riz Ahmed warns lack of diversity on TV will drive young to Isis https://t.co/peqslRD4ql ^Guardian https://t.co/3owH3ARWkl \n",
      "\n",
      "@MsBlaireWhite    I don't they have a clue either. Would sh*t diapers if they stood in front of a fellow retard from ISIS! \n",
      "\n",
      "@NormOrnstein Thuggish and ridiculous on its face. Press also speak to ISIS members, have interviewed Assad, Putin. It's called journalism! \n",
      "\n"
     ]
    },
    {
     "ename": "KeyboardInterrupt",
     "evalue": "",
     "output_type": "error",
     "traceback": [
      "\u001b[0;31m---------------------------------------------------------------------------\u001b[0m",
      "\u001b[0;31mKeyboardInterrupt\u001b[0m                         Traceback (most recent call last)",
      "\u001b[0;32m<ipython-input-6-3f2ce7f5b471>\u001b[0m in \u001b[0;36m<module>\u001b[0;34m()\u001b[0m\n\u001b[1;32m      3\u001b[0m \u001b[0mstream\u001b[0m \u001b[0;34m=\u001b[0m \u001b[0mtweepy\u001b[0m\u001b[0;34m.\u001b[0m\u001b[0mStream\u001b[0m\u001b[0;34m(\u001b[0m\u001b[0mauth\u001b[0m\u001b[0;34m=\u001b[0m\u001b[0mapi\u001b[0m\u001b[0;34m.\u001b[0m\u001b[0mauth\u001b[0m\u001b[0;34m,\u001b[0m \u001b[0mlistener\u001b[0m\u001b[0;34m=\u001b[0m\u001b[0mstream_listener\u001b[0m\u001b[0;34m)\u001b[0m\u001b[0;34m\u001b[0m\u001b[0m\n\u001b[1;32m      4\u001b[0m \u001b[0;31m# lesgetit\u001b[0m\u001b[0;34m\u001b[0m\u001b[0;34m\u001b[0m\u001b[0m\n\u001b[0;32m----> 5\u001b[0;31m \u001b[0mstream\u001b[0m\u001b[0;34m.\u001b[0m\u001b[0mfilter\u001b[0m\u001b[0;34m(\u001b[0m\u001b[0mtrack\u001b[0m\u001b[0;34m=\u001b[0m\u001b[0mTRACK_TERMS\u001b[0m\u001b[0;34m)\u001b[0m\u001b[0;34m\u001b[0m\u001b[0m\n\u001b[0m",
      "\u001b[0;32m/Users/jared/anaconda/lib/python2.7/site-packages/tweepy/streaming.pyc\u001b[0m in \u001b[0;36mfilter\u001b[0;34m(self, follow, track, async, locations, stall_warnings, languages, encoding, filter_level)\u001b[0m\n\u001b[1;32m    443\u001b[0m         \u001b[0mself\u001b[0m\u001b[0;34m.\u001b[0m\u001b[0msession\u001b[0m\u001b[0;34m.\u001b[0m\u001b[0mparams\u001b[0m \u001b[0;34m=\u001b[0m \u001b[0;34m{\u001b[0m\u001b[0;34m'delimited'\u001b[0m\u001b[0;34m:\u001b[0m \u001b[0;34m'length'\u001b[0m\u001b[0;34m}\u001b[0m\u001b[0;34m\u001b[0m\u001b[0m\n\u001b[1;32m    444\u001b[0m         \u001b[0mself\u001b[0m\u001b[0;34m.\u001b[0m\u001b[0mhost\u001b[0m \u001b[0;34m=\u001b[0m \u001b[0;34m'stream.twitter.com'\u001b[0m\u001b[0;34m\u001b[0m\u001b[0m\n\u001b[0;32m--> 445\u001b[0;31m         \u001b[0mself\u001b[0m\u001b[0;34m.\u001b[0m\u001b[0m_start\u001b[0m\u001b[0;34m(\u001b[0m\u001b[0masync\u001b[0m\u001b[0;34m)\u001b[0m\u001b[0;34m\u001b[0m\u001b[0m\n\u001b[0m\u001b[1;32m    446\u001b[0m \u001b[0;34m\u001b[0m\u001b[0m\n\u001b[1;32m    447\u001b[0m     def sitestream(self, follow, stall_warnings=False,\n",
      "\u001b[0;32m/Users/jared/anaconda/lib/python2.7/site-packages/tweepy/streaming.pyc\u001b[0m in \u001b[0;36m_start\u001b[0;34m(self, async)\u001b[0m\n\u001b[1;32m    359\u001b[0m             \u001b[0mself\u001b[0m\u001b[0;34m.\u001b[0m\u001b[0m_thread\u001b[0m\u001b[0;34m.\u001b[0m\u001b[0mstart\u001b[0m\u001b[0;34m(\u001b[0m\u001b[0;34m)\u001b[0m\u001b[0;34m\u001b[0m\u001b[0m\n\u001b[1;32m    360\u001b[0m         \u001b[0;32melse\u001b[0m\u001b[0;34m:\u001b[0m\u001b[0;34m\u001b[0m\u001b[0m\n\u001b[0;32m--> 361\u001b[0;31m             \u001b[0mself\u001b[0m\u001b[0;34m.\u001b[0m\u001b[0m_run\u001b[0m\u001b[0;34m(\u001b[0m\u001b[0;34m)\u001b[0m\u001b[0;34m\u001b[0m\u001b[0m\n\u001b[0m\u001b[1;32m    362\u001b[0m \u001b[0;34m\u001b[0m\u001b[0m\n\u001b[1;32m    363\u001b[0m     \u001b[0;32mdef\u001b[0m \u001b[0mon_closed\u001b[0m\u001b[0;34m(\u001b[0m\u001b[0mself\u001b[0m\u001b[0;34m,\u001b[0m \u001b[0mresp\u001b[0m\u001b[0;34m)\u001b[0m\u001b[0;34m:\u001b[0m\u001b[0;34m\u001b[0m\u001b[0m\n",
      "\u001b[0;32m/Users/jared/anaconda/lib/python2.7/site-packages/tweepy/streaming.pyc\u001b[0m in \u001b[0;36m_run\u001b[0;34m(self)\u001b[0m\n\u001b[1;32m    261\u001b[0m                     \u001b[0mself\u001b[0m\u001b[0;34m.\u001b[0m\u001b[0msnooze_time\u001b[0m \u001b[0;34m=\u001b[0m \u001b[0mself\u001b[0m\u001b[0;34m.\u001b[0m\u001b[0msnooze_time_step\u001b[0m\u001b[0;34m\u001b[0m\u001b[0m\n\u001b[1;32m    262\u001b[0m                     \u001b[0mself\u001b[0m\u001b[0;34m.\u001b[0m\u001b[0mlistener\u001b[0m\u001b[0;34m.\u001b[0m\u001b[0mon_connect\u001b[0m\u001b[0;34m(\u001b[0m\u001b[0;34m)\u001b[0m\u001b[0;34m\u001b[0m\u001b[0m\n\u001b[0;32m--> 263\u001b[0;31m                     \u001b[0mself\u001b[0m\u001b[0;34m.\u001b[0m\u001b[0m_read_loop\u001b[0m\u001b[0;34m(\u001b[0m\u001b[0mresp\u001b[0m\u001b[0;34m)\u001b[0m\u001b[0;34m\u001b[0m\u001b[0m\n\u001b[0m\u001b[1;32m    264\u001b[0m             \u001b[0;32mexcept\u001b[0m \u001b[0;34m(\u001b[0m\u001b[0mTimeout\u001b[0m\u001b[0;34m,\u001b[0m \u001b[0mssl\u001b[0m\u001b[0;34m.\u001b[0m\u001b[0mSSLError\u001b[0m\u001b[0;34m)\u001b[0m \u001b[0;32mas\u001b[0m \u001b[0mexc\u001b[0m\u001b[0;34m:\u001b[0m\u001b[0;34m\u001b[0m\u001b[0m\n\u001b[1;32m    265\u001b[0m                 \u001b[0;31m# This is still necessary, as a SSLError can actually be\u001b[0m\u001b[0;34m\u001b[0m\u001b[0;34m\u001b[0m\u001b[0m\n",
      "\u001b[0;32m/Users/jared/anaconda/lib/python2.7/site-packages/tweepy/streaming.pyc\u001b[0m in \u001b[0;36m_read_loop\u001b[0;34m(self, resp)\u001b[0m\n\u001b[1;32m    311\u001b[0m             \u001b[0mlength\u001b[0m \u001b[0;34m=\u001b[0m \u001b[0;36m0\u001b[0m\u001b[0;34m\u001b[0m\u001b[0m\n\u001b[1;32m    312\u001b[0m             \u001b[0;32mwhile\u001b[0m \u001b[0;32mnot\u001b[0m \u001b[0mresp\u001b[0m\u001b[0;34m.\u001b[0m\u001b[0mraw\u001b[0m\u001b[0;34m.\u001b[0m\u001b[0mclosed\u001b[0m\u001b[0;34m:\u001b[0m\u001b[0;34m\u001b[0m\u001b[0m\n\u001b[0;32m--> 313\u001b[0;31m                 \u001b[0mline\u001b[0m \u001b[0;34m=\u001b[0m \u001b[0mbuf\u001b[0m\u001b[0;34m.\u001b[0m\u001b[0mread_line\u001b[0m\u001b[0;34m(\u001b[0m\u001b[0;34m)\u001b[0m\u001b[0;34m.\u001b[0m\u001b[0mstrip\u001b[0m\u001b[0;34m(\u001b[0m\u001b[0;34m)\u001b[0m\u001b[0;34m\u001b[0m\u001b[0m\n\u001b[0m\u001b[1;32m    314\u001b[0m                 \u001b[0;32mif\u001b[0m \u001b[0;32mnot\u001b[0m \u001b[0mline\u001b[0m\u001b[0;34m:\u001b[0m\u001b[0;34m\u001b[0m\u001b[0m\n\u001b[1;32m    315\u001b[0m                     \u001b[0mself\u001b[0m\u001b[0;34m.\u001b[0m\u001b[0mlistener\u001b[0m\u001b[0;34m.\u001b[0m\u001b[0mkeep_alive\u001b[0m\u001b[0;34m(\u001b[0m\u001b[0;34m)\u001b[0m  \u001b[0;31m# keep-alive new lines are expected\u001b[0m\u001b[0;34m\u001b[0m\u001b[0m\n",
      "\u001b[0;32m/Users/jared/anaconda/lib/python2.7/site-packages/tweepy/streaming.pyc\u001b[0m in \u001b[0;36mread_line\u001b[0;34m(self, sep)\u001b[0m\n\u001b[1;32m    177\u001b[0m             \u001b[0;32melse\u001b[0m\u001b[0;34m:\u001b[0m\u001b[0;34m\u001b[0m\u001b[0m\n\u001b[1;32m    178\u001b[0m                 \u001b[0mstart\u001b[0m \u001b[0;34m=\u001b[0m \u001b[0mlen\u001b[0m\u001b[0;34m(\u001b[0m\u001b[0mself\u001b[0m\u001b[0;34m.\u001b[0m\u001b[0m_buffer\u001b[0m\u001b[0;34m)\u001b[0m\u001b[0;34m\u001b[0m\u001b[0m\n\u001b[0;32m--> 179\u001b[0;31m             \u001b[0mself\u001b[0m\u001b[0;34m.\u001b[0m\u001b[0m_buffer\u001b[0m \u001b[0;34m+=\u001b[0m \u001b[0mself\u001b[0m\u001b[0;34m.\u001b[0m\u001b[0m_stream\u001b[0m\u001b[0;34m.\u001b[0m\u001b[0mread\u001b[0m\u001b[0;34m(\u001b[0m\u001b[0mself\u001b[0m\u001b[0;34m.\u001b[0m\u001b[0m_chunk_size\u001b[0m\u001b[0;34m)\u001b[0m\u001b[0;34m\u001b[0m\u001b[0m\n\u001b[0m\u001b[1;32m    180\u001b[0m \u001b[0;34m\u001b[0m\u001b[0m\n\u001b[1;32m    181\u001b[0m     \u001b[0;32mdef\u001b[0m \u001b[0m_pop\u001b[0m\u001b[0;34m(\u001b[0m\u001b[0mself\u001b[0m\u001b[0;34m,\u001b[0m \u001b[0mlength\u001b[0m\u001b[0;34m)\u001b[0m\u001b[0;34m:\u001b[0m\u001b[0;34m\u001b[0m\u001b[0m\n",
      "\u001b[0;32m/Users/jared/anaconda/lib/python2.7/site-packages/requests/packages/urllib3/response.pyc\u001b[0m in \u001b[0;36mread\u001b[0;34m(self, amt, decode_content, cache_content)\u001b[0m\n\u001b[1;32m    378\u001b[0m             \u001b[0;32melse\u001b[0m\u001b[0;34m:\u001b[0m\u001b[0;34m\u001b[0m\u001b[0m\n\u001b[1;32m    379\u001b[0m                 \u001b[0mcache_content\u001b[0m \u001b[0;34m=\u001b[0m \u001b[0mFalse\u001b[0m\u001b[0;34m\u001b[0m\u001b[0m\n\u001b[0;32m--> 380\u001b[0;31m                 \u001b[0mdata\u001b[0m \u001b[0;34m=\u001b[0m \u001b[0mself\u001b[0m\u001b[0;34m.\u001b[0m\u001b[0m_fp\u001b[0m\u001b[0;34m.\u001b[0m\u001b[0mread\u001b[0m\u001b[0;34m(\u001b[0m\u001b[0mamt\u001b[0m\u001b[0;34m)\u001b[0m\u001b[0;34m\u001b[0m\u001b[0m\n\u001b[0m\u001b[1;32m    381\u001b[0m                 \u001b[0;32mif\u001b[0m \u001b[0mamt\u001b[0m \u001b[0;34m!=\u001b[0m \u001b[0;36m0\u001b[0m \u001b[0;32mand\u001b[0m \u001b[0;32mnot\u001b[0m \u001b[0mdata\u001b[0m\u001b[0;34m:\u001b[0m  \u001b[0;31m# Platform-specific: Buggy versions of Python.\u001b[0m\u001b[0;34m\u001b[0m\u001b[0m\n\u001b[1;32m    382\u001b[0m                     \u001b[0;31m# Close the connection when no data is returned\u001b[0m\u001b[0;34m\u001b[0m\u001b[0;34m\u001b[0m\u001b[0m\n",
      "\u001b[0;32m/Users/jared/anaconda/lib/python2.7/httplib.pyc\u001b[0m in \u001b[0;36mread\u001b[0;34m(self, amt)\u001b[0m\n\u001b[1;32m    586\u001b[0m \u001b[0;34m\u001b[0m\u001b[0m\n\u001b[1;32m    587\u001b[0m         \u001b[0;32mif\u001b[0m \u001b[0mself\u001b[0m\u001b[0;34m.\u001b[0m\u001b[0mchunked\u001b[0m\u001b[0;34m:\u001b[0m\u001b[0;34m\u001b[0m\u001b[0m\n\u001b[0;32m--> 588\u001b[0;31m             \u001b[0;32mreturn\u001b[0m \u001b[0mself\u001b[0m\u001b[0;34m.\u001b[0m\u001b[0m_read_chunked\u001b[0m\u001b[0;34m(\u001b[0m\u001b[0mamt\u001b[0m\u001b[0;34m)\u001b[0m\u001b[0;34m\u001b[0m\u001b[0m\n\u001b[0m\u001b[1;32m    589\u001b[0m \u001b[0;34m\u001b[0m\u001b[0m\n\u001b[1;32m    590\u001b[0m         \u001b[0;32mif\u001b[0m \u001b[0mamt\u001b[0m \u001b[0;32mis\u001b[0m \u001b[0mNone\u001b[0m\u001b[0;34m:\u001b[0m\u001b[0;34m\u001b[0m\u001b[0m\n",
      "\u001b[0;32m/Users/jared/anaconda/lib/python2.7/httplib.pyc\u001b[0m in \u001b[0;36m_read_chunked\u001b[0;34m(self, amt)\u001b[0m\n\u001b[1;32m    628\u001b[0m         \u001b[0;32mwhile\u001b[0m \u001b[0mTrue\u001b[0m\u001b[0;34m:\u001b[0m\u001b[0;34m\u001b[0m\u001b[0m\n\u001b[1;32m    629\u001b[0m             \u001b[0;32mif\u001b[0m \u001b[0mchunk_left\u001b[0m \u001b[0;32mis\u001b[0m \u001b[0mNone\u001b[0m\u001b[0;34m:\u001b[0m\u001b[0;34m\u001b[0m\u001b[0m\n\u001b[0;32m--> 630\u001b[0;31m                 \u001b[0mline\u001b[0m \u001b[0;34m=\u001b[0m \u001b[0mself\u001b[0m\u001b[0;34m.\u001b[0m\u001b[0mfp\u001b[0m\u001b[0;34m.\u001b[0m\u001b[0mreadline\u001b[0m\u001b[0;34m(\u001b[0m\u001b[0m_MAXLINE\u001b[0m \u001b[0;34m+\u001b[0m \u001b[0;36m1\u001b[0m\u001b[0;34m)\u001b[0m\u001b[0;34m\u001b[0m\u001b[0m\n\u001b[0m\u001b[1;32m    631\u001b[0m                 \u001b[0;32mif\u001b[0m \u001b[0mlen\u001b[0m\u001b[0;34m(\u001b[0m\u001b[0mline\u001b[0m\u001b[0;34m)\u001b[0m \u001b[0;34m>\u001b[0m \u001b[0m_MAXLINE\u001b[0m\u001b[0;34m:\u001b[0m\u001b[0;34m\u001b[0m\u001b[0m\n\u001b[1;32m    632\u001b[0m                     \u001b[0;32mraise\u001b[0m \u001b[0mLineTooLong\u001b[0m\u001b[0;34m(\u001b[0m\u001b[0;34m\"chunk size\"\u001b[0m\u001b[0;34m)\u001b[0m\u001b[0;34m\u001b[0m\u001b[0m\n",
      "\u001b[0;32m/Users/jared/anaconda/lib/python2.7/socket.pyc\u001b[0m in \u001b[0;36mreadline\u001b[0;34m(self, size)\u001b[0m\n\u001b[1;32m    478\u001b[0m             \u001b[0;32mwhile\u001b[0m \u001b[0mTrue\u001b[0m\u001b[0;34m:\u001b[0m\u001b[0;34m\u001b[0m\u001b[0m\n\u001b[1;32m    479\u001b[0m                 \u001b[0;32mtry\u001b[0m\u001b[0;34m:\u001b[0m\u001b[0;34m\u001b[0m\u001b[0m\n\u001b[0;32m--> 480\u001b[0;31m                     \u001b[0mdata\u001b[0m \u001b[0;34m=\u001b[0m \u001b[0mself\u001b[0m\u001b[0;34m.\u001b[0m\u001b[0m_sock\u001b[0m\u001b[0;34m.\u001b[0m\u001b[0mrecv\u001b[0m\u001b[0;34m(\u001b[0m\u001b[0mself\u001b[0m\u001b[0;34m.\u001b[0m\u001b[0m_rbufsize\u001b[0m\u001b[0;34m)\u001b[0m\u001b[0;34m\u001b[0m\u001b[0m\n\u001b[0m\u001b[1;32m    481\u001b[0m                 \u001b[0;32mexcept\u001b[0m \u001b[0merror\u001b[0m\u001b[0;34m,\u001b[0m \u001b[0me\u001b[0m\u001b[0;34m:\u001b[0m\u001b[0;34m\u001b[0m\u001b[0m\n\u001b[1;32m    482\u001b[0m                     \u001b[0;32mif\u001b[0m \u001b[0me\u001b[0m\u001b[0;34m.\u001b[0m\u001b[0margs\u001b[0m\u001b[0;34m[\u001b[0m\u001b[0;36m0\u001b[0m\u001b[0;34m]\u001b[0m \u001b[0;34m==\u001b[0m \u001b[0mEINTR\u001b[0m\u001b[0;34m:\u001b[0m\u001b[0;34m\u001b[0m\u001b[0m\n",
      "\u001b[0;32m/Users/jared/anaconda/lib/python2.7/ssl.pyc\u001b[0m in \u001b[0;36mrecv\u001b[0;34m(self, buflen, flags)\u001b[0m\n\u001b[1;32m    754\u001b[0m                     \u001b[0;34m\"non-zero flags not allowed in calls to recv() on %s\"\u001b[0m \u001b[0;34m%\u001b[0m\u001b[0;34m\u001b[0m\u001b[0m\n\u001b[1;32m    755\u001b[0m                     self.__class__)\n\u001b[0;32m--> 756\u001b[0;31m             \u001b[0;32mreturn\u001b[0m \u001b[0mself\u001b[0m\u001b[0;34m.\u001b[0m\u001b[0mread\u001b[0m\u001b[0;34m(\u001b[0m\u001b[0mbuflen\u001b[0m\u001b[0;34m)\u001b[0m\u001b[0;34m\u001b[0m\u001b[0m\n\u001b[0m\u001b[1;32m    757\u001b[0m         \u001b[0;32melse\u001b[0m\u001b[0;34m:\u001b[0m\u001b[0;34m\u001b[0m\u001b[0m\n\u001b[1;32m    758\u001b[0m             \u001b[0;32mreturn\u001b[0m \u001b[0mself\u001b[0m\u001b[0;34m.\u001b[0m\u001b[0m_sock\u001b[0m\u001b[0;34m.\u001b[0m\u001b[0mrecv\u001b[0m\u001b[0;34m(\u001b[0m\u001b[0mbuflen\u001b[0m\u001b[0;34m,\u001b[0m \u001b[0mflags\u001b[0m\u001b[0;34m)\u001b[0m\u001b[0;34m\u001b[0m\u001b[0m\n",
      "\u001b[0;32m/Users/jared/anaconda/lib/python2.7/ssl.pyc\u001b[0m in \u001b[0;36mread\u001b[0;34m(self, len, buffer)\u001b[0m\n\u001b[1;32m    641\u001b[0m                 \u001b[0mv\u001b[0m \u001b[0;34m=\u001b[0m \u001b[0mself\u001b[0m\u001b[0;34m.\u001b[0m\u001b[0m_sslobj\u001b[0m\u001b[0;34m.\u001b[0m\u001b[0mread\u001b[0m\u001b[0;34m(\u001b[0m\u001b[0mlen\u001b[0m\u001b[0;34m,\u001b[0m \u001b[0mbuffer\u001b[0m\u001b[0;34m)\u001b[0m\u001b[0;34m\u001b[0m\u001b[0m\n\u001b[1;32m    642\u001b[0m             \u001b[0;32melse\u001b[0m\u001b[0;34m:\u001b[0m\u001b[0;34m\u001b[0m\u001b[0m\n\u001b[0;32m--> 643\u001b[0;31m                 \u001b[0mv\u001b[0m \u001b[0;34m=\u001b[0m \u001b[0mself\u001b[0m\u001b[0;34m.\u001b[0m\u001b[0m_sslobj\u001b[0m\u001b[0;34m.\u001b[0m\u001b[0mread\u001b[0m\u001b[0;34m(\u001b[0m\u001b[0mlen\u001b[0m\u001b[0;34m)\u001b[0m\u001b[0;34m\u001b[0m\u001b[0m\n\u001b[0m\u001b[1;32m    644\u001b[0m             \u001b[0;32mreturn\u001b[0m \u001b[0mv\u001b[0m\u001b[0;34m\u001b[0m\u001b[0m\n\u001b[1;32m    645\u001b[0m         \u001b[0;32mexcept\u001b[0m \u001b[0mSSLError\u001b[0m \u001b[0;32mas\u001b[0m \u001b[0mx\u001b[0m\u001b[0;34m:\u001b[0m\u001b[0;34m\u001b[0m\u001b[0m\n",
      "\u001b[0;31mKeyboardInterrupt\u001b[0m: "
     ]
    }
   ],
   "source": [
    "# Run it\n",
    "stream_listener = StreamListener()\n",
    "stream = tweepy.Stream(auth=api.auth, listener=stream_listener)\n",
    "# lesgetit\n",
    "stream.filter(track=TRACK_TERMS)"
   ]
  },
  {
   "cell_type": "markdown",
   "metadata": {},
   "source": [
    "# Now we've successfully scraped tweets, but how can we use them?"
   ]
  },
  {
   "cell_type": "markdown",
   "metadata": {},
   "source": [
    "## Step 1: Extract tweets from db and put them into a useable file (we'll do .csv)"
   ]
  },
  {
   "cell_type": "code",
   "execution_count": 7,
   "metadata": {
    "collapsed": false
   },
   "outputs": [
    {
     "name": "stdout",
     "output_type": "stream",
     "text": [
      "#Import the necessary methods from tweepy library.py\r\n",
      "BeautifulSoup.ipynb\r\n",
      "Big_Data_Python.ipynb\r\n",
      "MoMAExhibitions1929to1989.csv\r\n",
      "Tweepy_Notebook.ipynb\r\n",
      "Untitled.ipynb\r\n",
      "Untitled1.ipynb\r\n",
      "academy_awards.csv\r\n",
      "convert_db_to_csv.py\r\n",
      "scrape.py\r\n",
      "settings.py\r\n",
      "settings.pyc\r\n",
      "tweets.db\r\n"
     ]
    }
   ],
   "source": [
    "!ls\n",
    "# no tweets.csv file"
   ]
  },
  {
   "cell_type": "markdown",
   "metadata": {},
   "source": [
    "### Make csv file from db"
   ]
  },
  {
   "cell_type": "code",
   "execution_count": 30,
   "metadata": {
    "collapsed": true
   },
   "outputs": [],
   "source": [
    "db = dataset.connect(DB_STRING)\n",
    "\n",
    "# save db data to 'result'\n",
    "result = db[TABLE_NAME].all()\n",
    "# coerce to csv\n",
    "dataset.freeze(result, format='csv', filename=CSV_NAME)"
   ]
  },
  {
   "cell_type": "code",
   "execution_count": 31,
   "metadata": {
    "collapsed": false
   },
   "outputs": [
    {
     "name": "stdout",
     "output_type": "stream",
     "text": [
      "#Import the necessary methods from tweepy library.py\r\n",
      "BeautifulSoup.ipynb\r\n",
      "Big_Data_Python.ipynb\r\n",
      "MoMAExhibitions1929to1989.csv\r\n",
      "Tweepy_Notebook.ipynb\r\n",
      "Untitled.ipynb\r\n",
      "academy_awards.csv\r\n",
      "convert_db_to_csv.py\r\n",
      "scrape.py\r\n",
      "settings.py\r\n",
      "settings.pyc\r\n",
      "tweets.csv\r\n",
      "tweets.db\r\n"
     ]
    }
   ],
   "source": [
    "!ls\n",
    "# dope -  there's a csv file now"
   ]
  },
  {
   "cell_type": "markdown",
   "metadata": {},
   "source": [
    "### View Data"
   ]
  },
  {
   "cell_type": "code",
   "execution_count": 34,
   "metadata": {
    "collapsed": false
   },
   "outputs": [],
   "source": [
    "import pandas as pd\n",
    "tweets = pd.read_csv(\"tweets.csv\")"
   ]
  },
  {
   "cell_type": "code",
   "execution_count": 35,
   "metadata": {
    "collapsed": false
   },
   "outputs": [
    {
     "data": {
      "text/html": [
       "<div>\n",
       "<table border=\"1\" class=\"dataframe\">\n",
       "  <thead>\n",
       "    <tr style=\"text-align: right;\">\n",
       "      <th></th>\n",
       "      <th>id</th>\n",
       "      <th>polarity</th>\n",
       "      <th>user_followers</th>\n",
       "      <th>text</th>\n",
       "      <th>user_description</th>\n",
       "      <th>created</th>\n",
       "      <th>user_location</th>\n",
       "      <th>coordinates</th>\n",
       "      <th>id_str</th>\n",
       "      <th>subjectivity</th>\n",
       "      <th>user_created</th>\n",
       "      <th>retweet_count</th>\n",
       "      <th>user_name</th>\n",
       "    </tr>\n",
       "  </thead>\n",
       "  <tbody>\n",
       "    <tr>\n",
       "      <th>0</th>\n",
       "      <td>1</td>\n",
       "      <td>0.5</td>\n",
       "      <td>642</td>\n",
       "      <td>@ScottJonesy Yes, they are.\\n\\nAnd now that Pr...</td>\n",
       "      <td>65 year old 'local haole' Surf Bum &amp; Visionary...</td>\n",
       "      <td>2017-02-27T23:32:41</td>\n",
       "      <td>Kailua Hawaii</td>\n",
       "      <td>NaN</td>\n",
       "      <td>836358421272145920</td>\n",
       "      <td>0.500000</td>\n",
       "      <td>2012-03-18T22:16:19</td>\n",
       "      <td>0</td>\n",
       "      <td>HURRICANEPAUL</td>\n",
       "    </tr>\n",
       "    <tr>\n",
       "      <th>1</th>\n",
       "      <td>2</td>\n",
       "      <td>0.1</td>\n",
       "      <td>2507</td>\n",
       "      <td>Omar Matteen like Timothy McVeigh American Cit...</td>\n",
       "      <td>Covering College Football Coaching from Miami ...</td>\n",
       "      <td>2017-02-27T23:32:42</td>\n",
       "      <td>Atlanta - Boulder - Tahoe - SF</td>\n",
       "      <td>NaN</td>\n",
       "      <td>836358426288611328</td>\n",
       "      <td>0.166667</td>\n",
       "      <td>2009-06-06T01:54:44</td>\n",
       "      <td>0</td>\n",
       "      <td>CoachesHotSeat</td>\n",
       "    </tr>\n",
       "    <tr>\n",
       "      <th>2</th>\n",
       "      <td>3</td>\n",
       "      <td>0.0</td>\n",
       "      <td>43</td>\n",
       "      <td>@Newsweek ISIS is an American creation, it's j...</td>\n",
       "      <td>French book/film writer (Cheneyland, Charlie's...</td>\n",
       "      <td>2017-02-27T23:32:54</td>\n",
       "      <td>London</td>\n",
       "      <td>NaN</td>\n",
       "      <td>836358475886260225</td>\n",
       "      <td>0.000000</td>\n",
       "      <td>2011-09-05T12:44:03</td>\n",
       "      <td>0</td>\n",
       "      <td>FelsonJack</td>\n",
       "    </tr>\n",
       "    <tr>\n",
       "      <th>3</th>\n",
       "      <td>4</td>\n",
       "      <td>0.0</td>\n",
       "      <td>53203</td>\n",
       "      <td>Obama, Co-founder of #ISIS, Lied Abt Intellige...</td>\n",
       "      <td>Free lance writer, to right of Attila, #Cathol...</td>\n",
       "      <td>2017-02-27T23:32:55</td>\n",
       "      <td>People's Republic of Chicago</td>\n",
       "      <td>NaN</td>\n",
       "      <td>836358483200991232</td>\n",
       "      <td>0.000000</td>\n",
       "      <td>2009-12-12T23:38:13</td>\n",
       "      <td>0</td>\n",
       "      <td>gerfingerpoken</td>\n",
       "    </tr>\n",
       "    <tr>\n",
       "      <th>4</th>\n",
       "      <td>5</td>\n",
       "      <td>0.0</td>\n",
       "      <td>164</td>\n",
       "      <td>😂😂😂 https://t.co/qMDmmiaKY3</td>\n",
       "      <td>Millennium varsity baseball #34// Joshua 1:9</td>\n",
       "      <td>2017-02-27T23:32:56</td>\n",
       "      <td>NaN</td>\n",
       "      <td>NaN</td>\n",
       "      <td>836358485071667204</td>\n",
       "      <td>0.000000</td>\n",
       "      <td>2015-12-13T01:11:14</td>\n",
       "      <td>0</td>\n",
       "      <td>Atizz__14</td>\n",
       "    </tr>\n",
       "  </tbody>\n",
       "</table>\n",
       "</div>"
      ],
      "text/plain": [
       "   id  polarity  user_followers  \\\n",
       "0   1       0.5             642   \n",
       "1   2       0.1            2507   \n",
       "2   3       0.0              43   \n",
       "3   4       0.0           53203   \n",
       "4   5       0.0             164   \n",
       "\n",
       "                                                text  \\\n",
       "0  @ScottJonesy Yes, they are.\\n\\nAnd now that Pr...   \n",
       "1  Omar Matteen like Timothy McVeigh American Cit...   \n",
       "2  @Newsweek ISIS is an American creation, it's j...   \n",
       "3  Obama, Co-founder of #ISIS, Lied Abt Intellige...   \n",
       "4                     😂😂😂 https://t.co/qMDmmiaKY3   \n",
       "\n",
       "                                    user_description              created  \\\n",
       "0  65 year old 'local haole' Surf Bum & Visionary...  2017-02-27T23:32:41   \n",
       "1  Covering College Football Coaching from Miami ...  2017-02-27T23:32:42   \n",
       "2  French book/film writer (Cheneyland, Charlie's...  2017-02-27T23:32:54   \n",
       "3  Free lance writer, to right of Attila, #Cathol...  2017-02-27T23:32:55   \n",
       "4       Millennium varsity baseball #34// Joshua 1:9  2017-02-27T23:32:56   \n",
       "\n",
       "                    user_location  coordinates              id_str  \\\n",
       "0                   Kailua Hawaii          NaN  836358421272145920   \n",
       "1  Atlanta - Boulder - Tahoe - SF          NaN  836358426288611328   \n",
       "2                          London          NaN  836358475886260225   \n",
       "3    People's Republic of Chicago          NaN  836358483200991232   \n",
       "4                             NaN          NaN  836358485071667204   \n",
       "\n",
       "   subjectivity         user_created  retweet_count       user_name  \n",
       "0      0.500000  2012-03-18T22:16:19              0   HURRICANEPAUL  \n",
       "1      0.166667  2009-06-06T01:54:44              0  CoachesHotSeat  \n",
       "2      0.000000  2011-09-05T12:44:03              0      FelsonJack  \n",
       "3      0.000000  2009-12-12T23:38:13              0  gerfingerpoken  \n",
       "4      0.000000  2015-12-13T01:11:14              0       Atizz__14  "
      ]
     },
     "execution_count": 35,
     "metadata": {},
     "output_type": "execute_result"
    }
   ],
   "source": [
    "tweets.head()"
   ]
  },
  {
   "cell_type": "markdown",
   "metadata": {},
   "source": [
    "### Get sentiment for tweets"
   ]
  },
  {
   "cell_type": "code",
   "execution_count": 36,
   "metadata": {
    "collapsed": false
   },
   "outputs": [],
   "source": [
    "from textblob import TextBlob\n",
    "\n",
    "def get_sentiment(text):\n",
    "    \n",
    "    text = text.decode(\"utf8\") # decode if unreadable ascii\n",
    "    blob = TextBlob(text)\n",
    "    sent = blob.sentiment.polarity\n",
    "    return sent\n",
    "\n",
    "tweets['sentiment'] = tweets['text'].apply(lambda x: get_sentiment(x))"
   ]
  },
  {
   "cell_type": "code",
   "execution_count": 37,
   "metadata": {
    "collapsed": false
   },
   "outputs": [
    {
     "data": {
      "text/html": [
       "<div>\n",
       "<table border=\"1\" class=\"dataframe\">\n",
       "  <thead>\n",
       "    <tr style=\"text-align: right;\">\n",
       "      <th></th>\n",
       "      <th>id</th>\n",
       "      <th>polarity</th>\n",
       "      <th>user_followers</th>\n",
       "      <th>text</th>\n",
       "      <th>user_description</th>\n",
       "      <th>created</th>\n",
       "      <th>user_location</th>\n",
       "      <th>coordinates</th>\n",
       "      <th>id_str</th>\n",
       "      <th>subjectivity</th>\n",
       "      <th>user_created</th>\n",
       "      <th>retweet_count</th>\n",
       "      <th>user_name</th>\n",
       "      <th>sentiment</th>\n",
       "    </tr>\n",
       "  </thead>\n",
       "  <tbody>\n",
       "    <tr>\n",
       "      <th>0</th>\n",
       "      <td>1</td>\n",
       "      <td>0.500000</td>\n",
       "      <td>642</td>\n",
       "      <td>@ScottJonesy Yes, they are.\\n\\nAnd now that Pr...</td>\n",
       "      <td>65 year old 'local haole' Surf Bum &amp; Visionary...</td>\n",
       "      <td>2017-02-27T23:32:41</td>\n",
       "      <td>Kailua Hawaii</td>\n",
       "      <td>NaN</td>\n",
       "      <td>836358421272145920</td>\n",
       "      <td>0.500000</td>\n",
       "      <td>2012-03-18T22:16:19</td>\n",
       "      <td>0</td>\n",
       "      <td>HURRICANEPAUL</td>\n",
       "      <td>0.500000</td>\n",
       "    </tr>\n",
       "    <tr>\n",
       "      <th>1</th>\n",
       "      <td>2</td>\n",
       "      <td>0.100000</td>\n",
       "      <td>2507</td>\n",
       "      <td>Omar Matteen like Timothy McVeigh American Cit...</td>\n",
       "      <td>Covering College Football Coaching from Miami ...</td>\n",
       "      <td>2017-02-27T23:32:42</td>\n",
       "      <td>Atlanta - Boulder - Tahoe - SF</td>\n",
       "      <td>NaN</td>\n",
       "      <td>836358426288611328</td>\n",
       "      <td>0.166667</td>\n",
       "      <td>2009-06-06T01:54:44</td>\n",
       "      <td>0</td>\n",
       "      <td>CoachesHotSeat</td>\n",
       "      <td>0.100000</td>\n",
       "    </tr>\n",
       "    <tr>\n",
       "      <th>2</th>\n",
       "      <td>3</td>\n",
       "      <td>0.000000</td>\n",
       "      <td>43</td>\n",
       "      <td>@Newsweek ISIS is an American creation, it's j...</td>\n",
       "      <td>French book/film writer (Cheneyland, Charlie's...</td>\n",
       "      <td>2017-02-27T23:32:54</td>\n",
       "      <td>London</td>\n",
       "      <td>NaN</td>\n",
       "      <td>836358475886260225</td>\n",
       "      <td>0.000000</td>\n",
       "      <td>2011-09-05T12:44:03</td>\n",
       "      <td>0</td>\n",
       "      <td>FelsonJack</td>\n",
       "      <td>0.000000</td>\n",
       "    </tr>\n",
       "    <tr>\n",
       "      <th>3</th>\n",
       "      <td>4</td>\n",
       "      <td>0.000000</td>\n",
       "      <td>53203</td>\n",
       "      <td>Obama, Co-founder of #ISIS, Lied Abt Intellige...</td>\n",
       "      <td>Free lance writer, to right of Attila, #Cathol...</td>\n",
       "      <td>2017-02-27T23:32:55</td>\n",
       "      <td>People's Republic of Chicago</td>\n",
       "      <td>NaN</td>\n",
       "      <td>836358483200991232</td>\n",
       "      <td>0.000000</td>\n",
       "      <td>2009-12-12T23:38:13</td>\n",
       "      <td>0</td>\n",
       "      <td>gerfingerpoken</td>\n",
       "      <td>0.000000</td>\n",
       "    </tr>\n",
       "    <tr>\n",
       "      <th>4</th>\n",
       "      <td>5</td>\n",
       "      <td>0.000000</td>\n",
       "      <td>164</td>\n",
       "      <td>😂😂😂 https://t.co/qMDmmiaKY3</td>\n",
       "      <td>Millennium varsity baseball #34// Joshua 1:9</td>\n",
       "      <td>2017-02-27T23:32:56</td>\n",
       "      <td>NaN</td>\n",
       "      <td>NaN</td>\n",
       "      <td>836358485071667204</td>\n",
       "      <td>0.000000</td>\n",
       "      <td>2015-12-13T01:11:14</td>\n",
       "      <td>0</td>\n",
       "      <td>Atizz__14</td>\n",
       "      <td>0.000000</td>\n",
       "    </tr>\n",
       "    <tr>\n",
       "      <th>5</th>\n",
       "      <td>6</td>\n",
       "      <td>0.000000</td>\n",
       "      <td>19</td>\n",
       "      <td>@DCorleone62 Abu Ghraib was the cause of ISIS.</td>\n",
       "      <td>Yeah, they are nice. Thanks!</td>\n",
       "      <td>2017-02-27T23:32:59</td>\n",
       "      <td>NaN</td>\n",
       "      <td>NaN</td>\n",
       "      <td>836358497323347968</td>\n",
       "      <td>0.000000</td>\n",
       "      <td>2013-02-25T00:35:05</td>\n",
       "      <td>0</td>\n",
       "      <td>ShellyElter</td>\n",
       "      <td>0.000000</td>\n",
       "    </tr>\n",
       "    <tr>\n",
       "      <th>6</th>\n",
       "      <td>7</td>\n",
       "      <td>0.000000</td>\n",
       "      <td>32</td>\n",
       "      <td>Must read this piece by @kurteichenwald .  Ign...</td>\n",
       "      <td>I will not be ruled by a six year old prone to...</td>\n",
       "      <td>2017-02-27T23:33:01</td>\n",
       "      <td>NaN</td>\n",
       "      <td>NaN</td>\n",
       "      <td>836358508421459968</td>\n",
       "      <td>0.000000</td>\n",
       "      <td>2014-01-24T14:26:24</td>\n",
       "      <td>0</td>\n",
       "      <td>MikeRose2d</td>\n",
       "      <td>0.000000</td>\n",
       "    </tr>\n",
       "    <tr>\n",
       "      <th>7</th>\n",
       "      <td>8</td>\n",
       "      <td>0.000000</td>\n",
       "      <td>27950</td>\n",
       "      <td>Sailor beheaded by #ISIS #Terror on video http...</td>\n",
       "      <td>Religion of Peace or Agenda Of Evil What is Is...</td>\n",
       "      <td>2017-02-27T23:33:07</td>\n",
       "      <td>Mecca</td>\n",
       "      <td>NaN</td>\n",
       "      <td>836358530479218688</td>\n",
       "      <td>0.000000</td>\n",
       "      <td>2016-01-11T17:47:07</td>\n",
       "      <td>0</td>\n",
       "      <td>AgendaOfEvil</td>\n",
       "      <td>0.000000</td>\n",
       "    </tr>\n",
       "    <tr>\n",
       "      <th>8</th>\n",
       "      <td>9</td>\n",
       "      <td>-0.155556</td>\n",
       "      <td>296</td>\n",
       "      <td>Moscow Means Business: Russia Forms Elite Syri...</td>\n",
       "      <td>The Truth Hurts! PC = Mind Control, Over-Popul...</td>\n",
       "      <td>2017-02-27T23:33:07</td>\n",
       "      <td>NaN</td>\n",
       "      <td>NaN</td>\n",
       "      <td>836358531645341697</td>\n",
       "      <td>0.288889</td>\n",
       "      <td>2015-05-06T01:45:44</td>\n",
       "      <td>0</td>\n",
       "      <td>pcliers</td>\n",
       "      <td>-0.155556</td>\n",
       "    </tr>\n",
       "    <tr>\n",
       "      <th>9</th>\n",
       "      <td>10</td>\n",
       "      <td>0.000000</td>\n",
       "      <td>94</td>\n",
       "      <td>Share if u think #ISIS should be wiped off the...</td>\n",
       "      <td>MFI international Pakistan (I'm Anti #ISIS #IS...</td>\n",
       "      <td>2017-02-27T23:33:07</td>\n",
       "      <td>NaN</td>\n",
       "      <td>NaN</td>\n",
       "      <td>836358531523702784</td>\n",
       "      <td>0.000000</td>\n",
       "      <td>2014-10-18T17:22:10</td>\n",
       "      <td>0</td>\n",
       "      <td>AmjadHussain299</td>\n",
       "      <td>0.000000</td>\n",
       "    </tr>\n",
       "    <tr>\n",
       "      <th>10</th>\n",
       "      <td>11</td>\n",
       "      <td>0.000000</td>\n",
       "      <td>591</td>\n",
       "      <td>Share if u think #ISIS should be wiped off the...</td>\n",
       "      <td>Ban all Wahhabi terrorist groups within the UK...</td>\n",
       "      <td>2017-02-27T23:33:07</td>\n",
       "      <td>London UK</td>\n",
       "      <td>NaN</td>\n",
       "      <td>836358531615965184</td>\n",
       "      <td>0.000000</td>\n",
       "      <td>2015-12-26T15:26:33</td>\n",
       "      <td>0</td>\n",
       "      <td>BanDaesh</td>\n",
       "      <td>0.000000</td>\n",
       "    </tr>\n",
       "    <tr>\n",
       "      <th>11</th>\n",
       "      <td>12</td>\n",
       "      <td>0.000000</td>\n",
       "      <td>7099</td>\n",
       "      <td>Share if u think #ISIS should be wiped off the...</td>\n",
       "      <td>I'm pro Imam Mehdi Ra Gohar Shahi #GoharShahi ...</td>\n",
       "      <td>2017-02-27T23:33:07</td>\n",
       "      <td>england uk</td>\n",
       "      <td>NaN</td>\n",
       "      <td>836358532274475008</td>\n",
       "      <td>0.000000</td>\n",
       "      <td>2013-03-04T13:08:38</td>\n",
       "      <td>0</td>\n",
       "      <td>therealrafaqat</td>\n",
       "      <td>0.000000</td>\n",
       "    </tr>\n",
       "    <tr>\n",
       "      <th>12</th>\n",
       "      <td>13</td>\n",
       "      <td>0.000000</td>\n",
       "      <td>47886</td>\n",
       "      <td>Share if u think #ISIS should be wiped off the...</td>\n",
       "      <td>please also follow @YounusAlGohar @MehdiFounda...</td>\n",
       "      <td>2017-02-27T23:33:07</td>\n",
       "      <td>London UK</td>\n",
       "      <td>NaN</td>\n",
       "      <td>836358532479995904</td>\n",
       "      <td>0.000000</td>\n",
       "      <td>2012-10-28T16:06:24</td>\n",
       "      <td>0</td>\n",
       "      <td>irafaqatgohar</td>\n",
       "      <td>0.000000</td>\n",
       "    </tr>\n",
       "    <tr>\n",
       "      <th>13</th>\n",
       "      <td>14</td>\n",
       "      <td>0.000000</td>\n",
       "      <td>2245</td>\n",
       "      <td>Share if u think #ISIS should be wiped off the...</td>\n",
       "      <td>#ISIL #ISIS #Daesh #IslamicState #IS are agent...</td>\n",
       "      <td>2017-02-27T23:33:07</td>\n",
       "      <td>New York USA</td>\n",
       "      <td>NaN</td>\n",
       "      <td>836358533398552577</td>\n",
       "      <td>0.000000</td>\n",
       "      <td>2014-10-12T17:42:47</td>\n",
       "      <td>0</td>\n",
       "      <td>ISIL_SATAN</td>\n",
       "      <td>0.000000</td>\n",
       "    </tr>\n",
       "    <tr>\n",
       "      <th>14</th>\n",
       "      <td>15</td>\n",
       "      <td>0.000000</td>\n",
       "      <td>45237</td>\n",
       "      <td>Share if u think #ISIS should be wiped off the...</td>\n",
       "      <td>Sick #ISIL #Daesh #ISIS #IS #AlNusra #Taliban ...</td>\n",
       "      <td>2017-02-27T23:33:07</td>\n",
       "      <td>NaN</td>\n",
       "      <td>NaN</td>\n",
       "      <td>836358533348274176</td>\n",
       "      <td>0.000000</td>\n",
       "      <td>2014-10-11T17:48:21</td>\n",
       "      <td>0</td>\n",
       "      <td>ISILEXPOSED</td>\n",
       "      <td>0.000000</td>\n",
       "    </tr>\n",
       "  </tbody>\n",
       "</table>\n",
       "</div>"
      ],
      "text/plain": [
       "    id  polarity  user_followers  \\\n",
       "0    1  0.500000             642   \n",
       "1    2  0.100000            2507   \n",
       "2    3  0.000000              43   \n",
       "3    4  0.000000           53203   \n",
       "4    5  0.000000             164   \n",
       "5    6  0.000000              19   \n",
       "6    7  0.000000              32   \n",
       "7    8  0.000000           27950   \n",
       "8    9 -0.155556             296   \n",
       "9   10  0.000000              94   \n",
       "10  11  0.000000             591   \n",
       "11  12  0.000000            7099   \n",
       "12  13  0.000000           47886   \n",
       "13  14  0.000000            2245   \n",
       "14  15  0.000000           45237   \n",
       "\n",
       "                                                 text  \\\n",
       "0   @ScottJonesy Yes, they are.\\n\\nAnd now that Pr...   \n",
       "1   Omar Matteen like Timothy McVeigh American Cit...   \n",
       "2   @Newsweek ISIS is an American creation, it's j...   \n",
       "3   Obama, Co-founder of #ISIS, Lied Abt Intellige...   \n",
       "4                      😂😂😂 https://t.co/qMDmmiaKY3   \n",
       "5      @DCorleone62 Abu Ghraib was the cause of ISIS.   \n",
       "6   Must read this piece by @kurteichenwald .  Ign...   \n",
       "7   Sailor beheaded by #ISIS #Terror on video http...   \n",
       "8   Moscow Means Business: Russia Forms Elite Syri...   \n",
       "9   Share if u think #ISIS should be wiped off the...   \n",
       "10  Share if u think #ISIS should be wiped off the...   \n",
       "11  Share if u think #ISIS should be wiped off the...   \n",
       "12  Share if u think #ISIS should be wiped off the...   \n",
       "13  Share if u think #ISIS should be wiped off the...   \n",
       "14  Share if u think #ISIS should be wiped off the...   \n",
       "\n",
       "                                     user_description              created  \\\n",
       "0   65 year old 'local haole' Surf Bum & Visionary...  2017-02-27T23:32:41   \n",
       "1   Covering College Football Coaching from Miami ...  2017-02-27T23:32:42   \n",
       "2   French book/film writer (Cheneyland, Charlie's...  2017-02-27T23:32:54   \n",
       "3   Free lance writer, to right of Attila, #Cathol...  2017-02-27T23:32:55   \n",
       "4        Millennium varsity baseball #34// Joshua 1:9  2017-02-27T23:32:56   \n",
       "5                        Yeah, they are nice. Thanks!  2017-02-27T23:32:59   \n",
       "6   I will not be ruled by a six year old prone to...  2017-02-27T23:33:01   \n",
       "7   Religion of Peace or Agenda Of Evil What is Is...  2017-02-27T23:33:07   \n",
       "8   The Truth Hurts! PC = Mind Control, Over-Popul...  2017-02-27T23:33:07   \n",
       "9   MFI international Pakistan (I'm Anti #ISIS #IS...  2017-02-27T23:33:07   \n",
       "10  Ban all Wahhabi terrorist groups within the UK...  2017-02-27T23:33:07   \n",
       "11  I'm pro Imam Mehdi Ra Gohar Shahi #GoharShahi ...  2017-02-27T23:33:07   \n",
       "12  please also follow @YounusAlGohar @MehdiFounda...  2017-02-27T23:33:07   \n",
       "13  #ISIL #ISIS #Daesh #IslamicState #IS are agent...  2017-02-27T23:33:07   \n",
       "14  Sick #ISIL #Daesh #ISIS #IS #AlNusra #Taliban ...  2017-02-27T23:33:07   \n",
       "\n",
       "                     user_location  coordinates              id_str  \\\n",
       "0                    Kailua Hawaii          NaN  836358421272145920   \n",
       "1   Atlanta - Boulder - Tahoe - SF          NaN  836358426288611328   \n",
       "2                           London          NaN  836358475886260225   \n",
       "3     People's Republic of Chicago          NaN  836358483200991232   \n",
       "4                              NaN          NaN  836358485071667204   \n",
       "5                              NaN          NaN  836358497323347968   \n",
       "6                              NaN          NaN  836358508421459968   \n",
       "7                            Mecca          NaN  836358530479218688   \n",
       "8                              NaN          NaN  836358531645341697   \n",
       "9                              NaN          NaN  836358531523702784   \n",
       "10                      London UK           NaN  836358531615965184   \n",
       "11                      england uk          NaN  836358532274475008   \n",
       "12                      London UK           NaN  836358532479995904   \n",
       "13                   New York USA           NaN  836358533398552577   \n",
       "14                             NaN          NaN  836358533348274176   \n",
       "\n",
       "    subjectivity         user_created  retweet_count        user_name  \\\n",
       "0       0.500000  2012-03-18T22:16:19              0    HURRICANEPAUL   \n",
       "1       0.166667  2009-06-06T01:54:44              0   CoachesHotSeat   \n",
       "2       0.000000  2011-09-05T12:44:03              0       FelsonJack   \n",
       "3       0.000000  2009-12-12T23:38:13              0   gerfingerpoken   \n",
       "4       0.000000  2015-12-13T01:11:14              0        Atizz__14   \n",
       "5       0.000000  2013-02-25T00:35:05              0      ShellyElter   \n",
       "6       0.000000  2014-01-24T14:26:24              0       MikeRose2d   \n",
       "7       0.000000  2016-01-11T17:47:07              0     AgendaOfEvil   \n",
       "8       0.288889  2015-05-06T01:45:44              0          pcliers   \n",
       "9       0.000000  2014-10-18T17:22:10              0  AmjadHussain299   \n",
       "10      0.000000  2015-12-26T15:26:33              0         BanDaesh   \n",
       "11      0.000000  2013-03-04T13:08:38              0   therealrafaqat   \n",
       "12      0.000000  2012-10-28T16:06:24              0    irafaqatgohar   \n",
       "13      0.000000  2014-10-12T17:42:47              0       ISIL_SATAN   \n",
       "14      0.000000  2014-10-11T17:48:21              0      ISILEXPOSED   \n",
       "\n",
       "    sentiment  \n",
       "0    0.500000  \n",
       "1    0.100000  \n",
       "2    0.000000  \n",
       "3    0.000000  \n",
       "4    0.000000  \n",
       "5    0.000000  \n",
       "6    0.000000  \n",
       "7    0.000000  \n",
       "8   -0.155556  \n",
       "9    0.000000  \n",
       "10   0.000000  \n",
       "11   0.000000  \n",
       "12   0.000000  \n",
       "13   0.000000  \n",
       "14   0.000000  "
      ]
     },
     "execution_count": 37,
     "metadata": {},
     "output_type": "execute_result"
    }
   ],
   "source": [
    "tweets.head(n=15)"
   ]
  },
  {
   "cell_type": "markdown",
   "metadata": {
    "collapsed": true
   },
   "source": [
    "## More: Using SQL through Python"
   ]
  },
  {
   "cell_type": "code",
   "execution_count": 38,
   "metadata": {
    "collapsed": false
   },
   "outputs": [],
   "source": [
    "import sqlite3\n",
    "conn = sqlite3.connect(\"tweets.db\")"
   ]
  },
  {
   "cell_type": "code",
   "execution_count": 19,
   "metadata": {
    "collapsed": true
   },
   "outputs": [],
   "source": [
    "# write SQL query\n",
    "query = \"SELECT text, user_name FROM tweets WHERE polarity < 0.0 LIMIT 10;\""
   ]
  },
  {
   "cell_type": "code",
   "execution_count": 21,
   "metadata": {
    "collapsed": false
   },
   "outputs": [
    {
     "data": {
      "text/plain": [
       "[(u'Moscow Means Business: Russia Forms Elite Syrian Army Unit to Hunt Down ISIS: https://t.co/a91WPzXDEK',\n",
       "  u'pcliers'),\n",
       " (u'TV journalist Shifa Gardi killed in Iraq covering battle to reclaim Mosul from ISIS: https://t.co/NJRi0M3EQZ https://t.co/xbTNpCdpBV',\n",
       "  u'Findsuitablejob'),\n",
       " (u'If you can watch this and not want our borders locked down https://t.co/MFzNrj5pDD are not human these are animals https://t.co/ZgwOnGUg5X',\n",
       "  u'ohmy58')]"
      ]
     },
     "execution_count": 21,
     "metadata": {},
     "output_type": "execute_result"
    }
   ],
   "source": [
    "result = conn.execute(query).fetchall()\n",
    "\n",
    "result"
   ]
  },
  {
   "cell_type": "markdown",
   "metadata": {},
   "source": [
    "### Read sql query to pandas"
   ]
  },
  {
   "cell_type": "code",
   "execution_count": 22,
   "metadata": {
    "collapsed": false
   },
   "outputs": [
    {
     "data": {
      "text/html": [
       "<div>\n",
       "<table border=\"1\" class=\"dataframe\">\n",
       "  <thead>\n",
       "    <tr style=\"text-align: right;\">\n",
       "      <th></th>\n",
       "      <th>text</th>\n",
       "      <th>user_name</th>\n",
       "    </tr>\n",
       "  </thead>\n",
       "  <tbody>\n",
       "    <tr>\n",
       "      <th>0</th>\n",
       "      <td>Moscow Means Business: Russia Forms Elite Syri...</td>\n",
       "      <td>pcliers</td>\n",
       "    </tr>\n",
       "    <tr>\n",
       "      <th>1</th>\n",
       "      <td>TV journalist Shifa Gardi killed in Iraq cover...</td>\n",
       "      <td>Findsuitablejob</td>\n",
       "    </tr>\n",
       "    <tr>\n",
       "      <th>2</th>\n",
       "      <td>If you can watch this and not want our borders...</td>\n",
       "      <td>ohmy58</td>\n",
       "    </tr>\n",
       "  </tbody>\n",
       "</table>\n",
       "</div>"
      ],
      "text/plain": [
       "                                                text        user_name\n",
       "0  Moscow Means Business: Russia Forms Elite Syri...          pcliers\n",
       "1  TV journalist Shifa Gardi killed in Iraq cover...  Findsuitablejob\n",
       "2  If you can watch this and not want our borders...           ohmy58"
      ]
     },
     "execution_count": 22,
     "metadata": {},
     "output_type": "execute_result"
    }
   ],
   "source": [
    "query_result = pd.read_sql_query(query, conn)\n",
    "query_result"
   ]
  },
  {
   "cell_type": "markdown",
   "metadata": {
    "collapsed": true
   },
   "source": [
    "# Load your own csv into db"
   ]
  },
  {
   "cell_type": "markdown",
   "metadata": {},
   "source": [
    "data link: https://www.aggdata.com/awards/oscar\n",
    "   "
   ]
  },
  {
   "cell_type": "code",
   "execution_count": null,
   "metadata": {
    "collapsed": false
   },
   "outputs": [],
   "source": [
    "df = pd.read_csv(\"academy_awards.csv\")\n",
    "df"
   ]
  },
  {
   "cell_type": "code",
   "execution_count": null,
   "metadata": {
    "collapsed": false
   },
   "outputs": [],
   "source": [
    "# get year only as 64bit int\n",
    "df[\"Year\"] = df[\"Year\"].str[0:4]\n",
    "df[\"Year\"] = df[\"Year\"].astype(\"int64\")"
   ]
  },
  {
   "cell_type": "code",
   "execution_count": null,
   "metadata": {
    "collapsed": false
   },
   "outputs": [],
   "source": [
    "print df.shape\n",
    "df.head(n=4)"
   ]
  },
  {
   "cell_type": "code",
   "execution_count": null,
   "metadata": {
    "collapsed": true
   },
   "outputs": [],
   "source": [
    "# Get only award categories we want in 'recent' years\n",
    "\n",
    "# 1st: Subset dataframe so we only have recent years\n",
    "later_than_2000 = df[df[\"Year\"] > 2000]\n",
    "\n",
    "# 2nd: Use subsetted data frame to extract recent years\n",
    "award_categories = [\"Actor -- Leading Role\",\"Actor -- Supporting Role\", \"Actress -- Leading Role\", \"Actress -- Supporting Role\"]\n",
    "nominations = later_than_2000[later_than_2000[\"Category\"].isin(award_categories)]"
   ]
  },
  {
   "cell_type": "code",
   "execution_count": null,
   "metadata": {
    "collapsed": false
   },
   "outputs": [],
   "source": [
    "nominations.shape\n",
    "nominations.head(n=5)"
   ]
  },
  {
   "cell_type": "code",
   "execution_count": null,
   "metadata": {
    "collapsed": false
   },
   "outputs": [],
   "source": [
    "# Binarize Won columns\n",
    "replacements = { \"NO\": 0, \"YES\": 1 }\n",
    "nominations[\"Won?\"] = nominations[\"Won?\"].map(replacements)\n",
    "nominations[\"Won\"] = nominations[\"Won?\"]\n",
    "drop_cols = [\"Won?\",\"Unnamed: 5\", \"Unnamed: 6\",\"Unnamed: 7\", \"Unnamed: 8\", \"Unnamed: 9\", \"Unnamed: 10\"]\n",
    "final_nominations = nominations.drop(drop_cols, axis=1)"
   ]
  },
  {
   "cell_type": "code",
   "execution_count": null,
   "metadata": {
    "collapsed": false
   },
   "outputs": [],
   "source": [
    "final_nominations"
   ]
  },
  {
   "cell_type": "code",
   "execution_count": null,
   "metadata": {
    "collapsed": true
   },
   "outputs": [],
   "source": [
    "# Clean final columns\n",
    "additional_info_one = final_nominations[\"Additional Info\"].str.rstrip(\"'}\")\n",
    "additional_info_two = additional_info_one.str.split(\" {'\")\n",
    "movie_names = additional_info_two.str[0]\n",
    "characters = additional_info_two.str[1]\n",
    "final_nominations[\"Movie\"] = movie_names\n",
    "final_nominations[\"Character\"] = characters\n",
    "final_nominations = final_nominations.drop(\"Additional Info\", axis=1)"
   ]
  },
  {
   "cell_type": "code",
   "execution_count": null,
   "metadata": {
    "collapsed": false
   },
   "outputs": [],
   "source": [
    "final_nominations"
   ]
  },
  {
   "cell_type": "markdown",
   "metadata": {},
   "source": [
    "## Export newly cleaned csv to sql"
   ]
  },
  {
   "cell_type": "code",
   "execution_count": null,
   "metadata": {
    "collapsed": false
   },
   "outputs": [],
   "source": [
    "import sqlite3\n",
    "conn = sqlite3.connect(\"nominations.db\")\n",
    "conn.text_factory=str\n",
    "final_nominations.to_sql(\"nominations\", conn, index=False)"
   ]
  },
  {
   "cell_type": "code",
   "execution_count": null,
   "metadata": {
    "collapsed": false
   },
   "outputs": [],
   "source": [
    "query_one = \"pragma table_info(nominations);\"\n",
    "print conn.execute(query_one).fetchall()"
   ]
  },
  {
   "cell_type": "code",
   "execution_count": null,
   "metadata": {
    "collapsed": false
   },
   "outputs": [],
   "source": [
    "query_two = \"select * from nominations limit 10;\"\n",
    "print conn.execute(query_two).fetchall()\n",
    "conn.close()"
   ]
  },
  {
   "cell_type": "code",
   "execution_count": null,
   "metadata": {
    "collapsed": true
   },
   "outputs": [],
   "source": []
  }
 ],
 "metadata": {
  "anaconda-cloud": {},
  "kernelspec": {
   "display_name": "Python [default]",
   "language": "python",
   "name": "python3"
  },
  "language_info": {
   "codemirror_mode": {
    "name": "ipython",
    "version": 3
   },
   "file_extension": ".py",
   "mimetype": "text/x-python",
   "name": "python",
   "nbconvert_exporter": "python",
   "pygments_lexer": "ipython3",
   "version": "3.5.2"
  }
 },
 "nbformat": 4,
 "nbformat_minor": 0
}
